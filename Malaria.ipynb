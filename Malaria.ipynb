{
 "cells": [
  {
   "cell_type": "markdown",
   "metadata": {},
   "source": [
    "IMPORTING LIBRARIES"
   ]
  },
  {
   "cell_type": "code",
   "execution_count": 1,
   "metadata": {},
   "outputs": [],
   "source": [
    "import numpy as np\n",
    "import pandas as pd\n",
    "import matplotlib.pyplot as plt\n",
    "import seaborn as sns\n",
    "import plotly.express as px\n",
    "import plotly.io as pio\n",
    "import plotly.graph_objects as go\n",
    "import missingno as  msno\n",
    "from plotly.subplots import make_subplots"
   ]
  },
  {
   "cell_type": "markdown",
   "metadata": {},
   "source": [
    "LOAD DATA"
   ]
  },
  {
   "cell_type": "code",
   "execution_count": 2,
   "metadata": {},
   "outputs": [],
   "source": [
    "df = pd.read_csv(\"reported_numbers.csv\")"
   ]
  },
  {
   "cell_type": "code",
   "execution_count": 3,
   "metadata": {},
   "outputs": [
    {
     "data": {
      "text/html": [
       "<div>\n",
       "<style scoped>\n",
       "    .dataframe tbody tr th:only-of-type {\n",
       "        vertical-align: middle;\n",
       "    }\n",
       "\n",
       "    .dataframe tbody tr th {\n",
       "        vertical-align: top;\n",
       "    }\n",
       "\n",
       "    .dataframe thead th {\n",
       "        text-align: right;\n",
       "    }\n",
       "</style>\n",
       "<table border=\"1\" class=\"dataframe\">\n",
       "  <thead>\n",
       "    <tr style=\"text-align: right;\">\n",
       "      <th></th>\n",
       "      <th>Country</th>\n",
       "      <th>Year</th>\n",
       "      <th>No. of cases</th>\n",
       "      <th>No. of deaths</th>\n",
       "      <th>WHO Region</th>\n",
       "    </tr>\n",
       "  </thead>\n",
       "  <tbody>\n",
       "    <tr>\n",
       "      <th>0</th>\n",
       "      <td>Afghanistan</td>\n",
       "      <td>2017</td>\n",
       "      <td>161778.0</td>\n",
       "      <td>10.0</td>\n",
       "      <td>Eastern Mediterranean</td>\n",
       "    </tr>\n",
       "    <tr>\n",
       "      <th>1</th>\n",
       "      <td>Algeria</td>\n",
       "      <td>2017</td>\n",
       "      <td>0.0</td>\n",
       "      <td>0.0</td>\n",
       "      <td>Africa</td>\n",
       "    </tr>\n",
       "    <tr>\n",
       "      <th>2</th>\n",
       "      <td>Angola</td>\n",
       "      <td>2017</td>\n",
       "      <td>3874892.0</td>\n",
       "      <td>13967.0</td>\n",
       "      <td>Africa</td>\n",
       "    </tr>\n",
       "    <tr>\n",
       "      <th>3</th>\n",
       "      <td>Argentina</td>\n",
       "      <td>2017</td>\n",
       "      <td>0.0</td>\n",
       "      <td>1.0</td>\n",
       "      <td>Americas</td>\n",
       "    </tr>\n",
       "    <tr>\n",
       "      <th>4</th>\n",
       "      <td>Armenia</td>\n",
       "      <td>2017</td>\n",
       "      <td>0.0</td>\n",
       "      <td>NaN</td>\n",
       "      <td>Europe</td>\n",
       "    </tr>\n",
       "  </tbody>\n",
       "</table>\n",
       "</div>"
      ],
      "text/plain": [
       "       Country  Year  No. of cases  No. of deaths             WHO Region\n",
       "0  Afghanistan  2017      161778.0           10.0  Eastern Mediterranean\n",
       "1      Algeria  2017           0.0            0.0                 Africa\n",
       "2       Angola  2017     3874892.0        13967.0                 Africa\n",
       "3    Argentina  2017           0.0            1.0               Americas\n",
       "4      Armenia  2017           0.0            NaN                 Europe"
      ]
     },
     "execution_count": 3,
     "metadata": {},
     "output_type": "execute_result"
    }
   ],
   "source": [
    "df.head()"
   ]
  },
  {
   "cell_type": "markdown",
   "metadata": {},
   "source": [
    "REPLACE NAN"
   ]
  },
  {
   "cell_type": "code",
   "execution_count": 4,
   "metadata": {},
   "outputs": [
    {
     "data": {
      "text/html": [
       "<div>\n",
       "<style scoped>\n",
       "    .dataframe tbody tr th:only-of-type {\n",
       "        vertical-align: middle;\n",
       "    }\n",
       "\n",
       "    .dataframe tbody tr th {\n",
       "        vertical-align: top;\n",
       "    }\n",
       "\n",
       "    .dataframe thead th {\n",
       "        text-align: right;\n",
       "    }\n",
       "</style>\n",
       "<table border=\"1\" class=\"dataframe\">\n",
       "  <thead>\n",
       "    <tr style=\"text-align: right;\">\n",
       "      <th></th>\n",
       "      <th>Country</th>\n",
       "      <th>Year</th>\n",
       "      <th>No. of cases</th>\n",
       "      <th>No. of deaths</th>\n",
       "      <th>WHO Region</th>\n",
       "    </tr>\n",
       "  </thead>\n",
       "  <tbody>\n",
       "    <tr>\n",
       "      <th>0</th>\n",
       "      <td>Afghanistan</td>\n",
       "      <td>2017</td>\n",
       "      <td>161778.0</td>\n",
       "      <td>10.0</td>\n",
       "      <td>Eastern Mediterranean</td>\n",
       "    </tr>\n",
       "    <tr>\n",
       "      <th>1</th>\n",
       "      <td>Algeria</td>\n",
       "      <td>2017</td>\n",
       "      <td>0.0</td>\n",
       "      <td>0.0</td>\n",
       "      <td>Africa</td>\n",
       "    </tr>\n",
       "    <tr>\n",
       "      <th>2</th>\n",
       "      <td>Angola</td>\n",
       "      <td>2017</td>\n",
       "      <td>3874892.0</td>\n",
       "      <td>13967.0</td>\n",
       "      <td>Africa</td>\n",
       "    </tr>\n",
       "    <tr>\n",
       "      <th>3</th>\n",
       "      <td>Argentina</td>\n",
       "      <td>2017</td>\n",
       "      <td>0.0</td>\n",
       "      <td>1.0</td>\n",
       "      <td>Americas</td>\n",
       "    </tr>\n",
       "    <tr>\n",
       "      <th>4</th>\n",
       "      <td>Armenia</td>\n",
       "      <td>2017</td>\n",
       "      <td>0.0</td>\n",
       "      <td>0.0</td>\n",
       "      <td>Europe</td>\n",
       "    </tr>\n",
       "  </tbody>\n",
       "</table>\n",
       "</div>"
      ],
      "text/plain": [
       "       Country  Year  No. of cases  No. of deaths             WHO Region\n",
       "0  Afghanistan  2017      161778.0           10.0  Eastern Mediterranean\n",
       "1      Algeria  2017           0.0            0.0                 Africa\n",
       "2       Angola  2017     3874892.0        13967.0                 Africa\n",
       "3    Argentina  2017           0.0            1.0               Americas\n",
       "4      Armenia  2017           0.0            0.0                 Europe"
      ]
     },
     "execution_count": 4,
     "metadata": {},
     "output_type": "execute_result"
    }
   ],
   "source": [
    "df['No. of deaths'] = df['No. of deaths'].replace(np.nan, 0)\n",
    "df['No. of cases'] = df['No. of cases'].replace(np.nan, 0)\n",
    "df.head()"
   ]
  },
  {
   "cell_type": "markdown",
   "metadata": {},
   "source": [
    "EXPLORATORY DATA ANALYSIS\n",
    "1) TOP 50 COUNTRIES WITH LARGEST NUMBER OF CASES IN 2016"
   ]
  },
  {
   "cell_type": "code",
   "execution_count": 9,
   "metadata": {},
   "outputs": [
    {
     "data": {
      "image/png": "[encoded data removed]",
      "text/plain": [
       "<Figure size 1296x720 with 1 Axes>"
      ]
     },
     "metadata": {
      "needs_background": "light"
     },
     "output_type": "display_data"
    }
   ],
   "source": [
    "df1 = df.sort_values(by = 'No. of cases', ascending=False)\n",
    "df1 = df1[df1['Year']==2016][:50]\n",
    "plt.figure(figsize=(18,10))\n",
    "sns.barplot(df1['Country'], df1['No. of cases'])\n",
    "plt.xticks(rotation=90, ha='right');"
   ]
  },
  {
   "cell_type": "markdown",
   "metadata": {},
   "source": [
    "2) TOP 50 COUNTRIES WITH LARGEST NUMBER OF CASES IN 2017"
   ]
  },
  {
   "cell_type": "code",
   "execution_count": 8,
   "metadata": {
    "scrolled": true
   },
   "outputs": [
    {
     "data": {
      "image/png": "[encoded data removed]",
      "text/plain": [
       "<Figure size 1296x720 with 1 Axes>"
      ]
     },
     "metadata": {
      "needs_background": "light"
     },
     "output_type": "display_data"
    }
   ],
   "source": [
    "df2 = df.sort_values(by = 'No. of deaths', ascending=False)\n",
    "df2 = df2[df2['Year']==2016][:50]\n",
    "plt.figure(figsize=(18,10))\n",
    "sns.barplot(df2['Country'], df2['No. of deaths'])\n",
    "plt.xticks(rotation=90, ha='right');"
   ]
  },
  {
   "cell_type": "markdown",
   "metadata": {},
   "source": [
    "3) MALARIA DEATH AND CASES OVER THE YEARS"
   ]
  },
  {
   "cell_type": "code",
   "execution_count": 18,
   "metadata": {},
   "outputs": [
    {
     "data": {
      "image/png": "[encoded data removed]",
      "text/plain": [
       "<Figure size 576x360 with 1 Axes>"
      ]
     },
     "metadata": {
      "needs_background": "light"
     },
     "output_type": "display_data"
    }
   ],
   "source": [
    "df4 = df.groupby('Year').sum().loc[:, ['No. of cases', 'No. of deaths']]\n",
    "plt.figure(figsize =(8,5))\n",
    "ax = sns.lineplot(data=df4)\n",
    "plt.xlabel('Year', fontsize=15)\n",
    "plt.title('Malaria death and cases over the years', fontsize=14, fontweight='bold')\n",
    "plt.show()"
   ]
  },
  {
   "cell_type": "markdown",
   "metadata": {},
   "source": [
    "4) MALARIA DEATH AND CASES IN PARTICULAR WHO REGION"
   ]
  },
  {
   "cell_type": "code",
   "execution_count": 19,
   "metadata": {},
   "outputs": [
    {
     "data": {
      "image/png": "[encoded data removed]",
      "text/plain": [
       "<Figure size 576x360 with 1 Axes>"
      ]
     },
     "metadata": {
      "needs_background": "light"
     },
     "output_type": "display_data"
    }
   ],
   "source": [
    "df5 = df.groupby('WHO Region').sum().loc[:, ['No. of cases', 'No. of deaths']]\n",
    "plt.figure(figsize =(8,5))\n",
    "ax = sns.lineplot(data=df5)\n",
    "plt.xlabel('Year', fontsize=15)\n",
    "plt.title('Malaria death and cases in particular WHO Region', fontsize=14, fontweight='bold')\n",
    "plt.show()"
   ]
  },
  {
   "cell_type": "code",
   "execution_count": 20,
   "metadata": {},
   "outputs": [
    {
     "name": "stderr",
     "output_type": "stream",
     "text": [
      "C:\\Users\\vaishnavi\\anaconda3\\lib\\site-packages\\ipykernel_launcher.py:1: FutureWarning:\n",
      "\n",
      "Indexing with multiple keys (implicitly converted to a tuple of keys) will be deprecated, use a list instead.\n",
      "\n"
     ]
    },
    {
     "data": {
      "text/html": [
       "<div>\n",
       "<style scoped>\n",
       "    .dataframe tbody tr th:only-of-type {\n",
       "        vertical-align: middle;\n",
       "    }\n",
       "\n",
       "    .dataframe tbody tr th {\n",
       "        vertical-align: top;\n",
       "    }\n",
       "\n",
       "    .dataframe thead th {\n",
       "        text-align: right;\n",
       "    }\n",
       "</style>\n",
       "<table border=\"1\" class=\"dataframe\">\n",
       "  <thead>\n",
       "    <tr style=\"text-align: right;\">\n",
       "      <th></th>\n",
       "      <th>Country</th>\n",
       "      <th>No. of cases</th>\n",
       "      <th>No. of deaths</th>\n",
       "    </tr>\n",
       "  </thead>\n",
       "  <tbody>\n",
       "    <tr>\n",
       "      <th>0</th>\n",
       "      <td>Afghanistan</td>\n",
       "      <td>2295043.0</td>\n",
       "      <td>363.0</td>\n",
       "    </tr>\n",
       "    <tr>\n",
       "      <th>1</th>\n",
       "      <td>Algeria</td>\n",
       "      <td>2645.0</td>\n",
       "      <td>4.0</td>\n",
       "    </tr>\n",
       "    <tr>\n",
       "      <th>2</th>\n",
       "      <td>Angola</td>\n",
       "      <td>26006152.0</td>\n",
       "      <td>209838.0</td>\n",
       "    </tr>\n",
       "    <tr>\n",
       "      <th>3</th>\n",
       "      <td>Argentina</td>\n",
       "      <td>2098.0</td>\n",
       "      <td>2.0</td>\n",
       "    </tr>\n",
       "    <tr>\n",
       "      <th>4</th>\n",
       "      <td>Armenia</td>\n",
       "      <td>355.0</td>\n",
       "      <td>0.0</td>\n",
       "    </tr>\n",
       "  </tbody>\n",
       "</table>\n",
       "</div>"
      ],
      "text/plain": [
       "       Country  No. of cases  No. of deaths\n",
       "0  Afghanistan     2295043.0          363.0\n",
       "1      Algeria        2645.0            4.0\n",
       "2       Angola    26006152.0       209838.0\n",
       "3    Argentina        2098.0            2.0\n",
       "4      Armenia         355.0            0.0"
      ]
     },
     "execution_count": 20,
     "metadata": {},
     "output_type": "execute_result"
    }
   ],
   "source": [
    "df_group =df.groupby('Country')[\"No. of cases\",\"No. of deaths\"].sum().reset_index()\n",
    "df_group.head()"
   ]
  },
  {
   "cell_type": "code",
   "execution_count": 21,
   "metadata": {},
   "outputs": [
    {
     "data": {
      "text/html": [
       "<div>\n",
       "<style scoped>\n",
       "    .dataframe tbody tr th:only-of-type {\n",
       "        vertical-align: middle;\n",
       "    }\n",
       "\n",
       "    .dataframe tbody tr th {\n",
       "        vertical-align: top;\n",
       "    }\n",
       "\n",
       "    .dataframe thead th {\n",
       "        text-align: right;\n",
       "    }\n",
       "</style>\n",
       "<table border=\"1\" class=\"dataframe\">\n",
       "  <thead>\n",
       "    <tr style=\"text-align: right;\">\n",
       "      <th></th>\n",
       "      <th>Country</th>\n",
       "      <th>No. of cases</th>\n",
       "    </tr>\n",
       "  </thead>\n",
       "  <tbody>\n",
       "    <tr>\n",
       "      <th>0</th>\n",
       "      <td>Afghanistan</td>\n",
       "      <td>2295043.0</td>\n",
       "    </tr>\n",
       "    <tr>\n",
       "      <th>1</th>\n",
       "      <td>Algeria</td>\n",
       "      <td>2645.0</td>\n",
       "    </tr>\n",
       "    <tr>\n",
       "      <th>2</th>\n",
       "      <td>Angola</td>\n",
       "      <td>26006152.0</td>\n",
       "    </tr>\n",
       "    <tr>\n",
       "      <th>3</th>\n",
       "      <td>Argentina</td>\n",
       "      <td>2098.0</td>\n",
       "    </tr>\n",
       "    <tr>\n",
       "      <th>4</th>\n",
       "      <td>Armenia</td>\n",
       "      <td>355.0</td>\n",
       "    </tr>\n",
       "  </tbody>\n",
       "</table>\n",
       "</div>"
      ],
      "text/plain": [
       "       Country  No. of cases\n",
       "0  Afghanistan     2295043.0\n",
       "1      Algeria        2645.0\n",
       "2       Angola    26006152.0\n",
       "3    Argentina        2098.0\n",
       "4      Armenia         355.0"
      ]
     },
     "execution_count": 21,
     "metadata": {},
     "output_type": "execute_result"
    }
   ],
   "source": [
    "df_cases = df_group[[\"Country\",\"No. of cases\"]]\n",
    "df_cases.head()"
   ]
  },
  {
   "cell_type": "markdown",
   "metadata": {},
   "source": [
    "5) MALARIA CASES FROM 2000 - 2018"
   ]
  },
  {
   "cell_type": "code",
   "execution_count": 47,
   "metadata": {},
   "outputs": [
    {
     "data": {
      "application/vnd.plotly.v1+json": {
       "config": {
        "plotlyServerURL": "https://plot.ly"
       },
       "data": [
        {
         "alignmentgroup": "True",
         "hovertemplate": "No. of cases=%{text}<br>Country=%{y}<extra></extra>",
         "legendgroup": "",
         "marker": {
          "color": "#FD3216"
         },
         "name": "",
         "offsetgroup": "",
         "orientation": "h",
         "showlegend": false,
         "text": [
          11198339,
          11221132,
          11919627,
          16394026,
          16924676,
          17622853,
          18254319,
          18619166,
          19007940,
          19445640,
          26006152,
          27013448,
          28405332,
          33559165,
          36658192,
          40725992,
          41264306,
          41655606,
          45335913,
          74842893
         ],
         "textposition": "auto",
         "type": "bar",
         "x": [
          11198339,
          11221132,
          11919627,
          16394026,
          16924676,
          17622853,
          18254319,
          18619166,
          19007940,
          19445640,
          26006152,
          27013448,
          28405332,
          33559165,
          36658192,
          40725992,
          41264306,
          41655606,
          45335913,
          74842893
         ],
         "xaxis": "x",
         "y": [
          "Mali",
          "Liberia",
          "Sierra Leone",
          "Rwanda",
          "Kenya",
          "Côte d'Ivoire",
          "Niger",
          "Zambia",
          "Ethiopia",
          "Malawi",
          "Angola",
          "India",
          "Ghana",
          "United Republic of Tanzania",
          "Nigeria",
          "Mozambique",
          "Burundi",
          "Burkina Faso",
          "Uganda",
          "Democratic Republic of the Congo"
         ],
         "yaxis": "y"
        }
       ],
       "layout": {
        "barmode": "relative",
        "height": 500,
        "legend": {
         "tracegroupgap": 0
        },
        "template": {
         "data": {
          "pie": [
           {
            "automargin": true,
            "type": "pie"
           }
          ]
         },
         "layout": {
          "xaxis": {
           "showgrid": true,
           "title": {
            "standoff": 15
           }
          },
          "yaxis": {
           "showgrid": true,
           "title": {
            "standoff": 15
           }
          }
         }
        },
        "title": {
         "text": "Malaria Cases from 2000 to 2018"
        },
        "xaxis": {
         "anchor": "y",
         "domain": [
          0,
          1
         ],
         "title": {
          "text": "No. of cases"
         }
        },
        "yaxis": {
         "anchor": "x",
         "domain": [
          0,
          1
         ],
         "title": {
          "text": "Country"
         }
        }
       }
      },
      "text/html": [
       "<div>\n",
       "        \n",
       "        \n",
       "            <div id=\"912c778c-af5b-44c6-a3b1-7a8215f821af\" class=\"plotly-graph-div\" style=\"height:500px; width:100%;\"></div>\n",
       "            <script type=\"text/javascript\">\n",
       "                require([\"plotly\"], function(Plotly) {\n",
       "                    window.PLOTLYENV=window.PLOTLYENV || {};\n",
       "                    \n",
       "                if (document.getElementById(\"912c778c-af5b-44c6-a3b1-7a8215f821af\")) {\n",
       "                    Plotly.newPlot(\n",
       "                        '912c778c-af5b-44c6-a3b1-7a8215f821af',\n",
       "                        [{\"alignmentgroup\": \"True\", \"hovertemplate\": \"No. of cases=%{text}<br>Country=%{y}<extra></extra>\", \"legendgroup\": \"\", \"marker\": {\"color\": \"#FD3216\"}, \"name\": \"\", \"offsetgroup\": \"\", \"orientation\": \"h\", \"showlegend\": false, \"text\": [11198339.0, 11221132.0, 11919627.0, 16394026.0, 16924676.0, 17622853.0, 18254319.0, 18619166.0, 19007940.0, 19445640.0, 26006152.0, 27013448.0, 28405332.0, 33559165.0, 36658192.0, 40725992.0, 41264306.0, 41655606.0, 45335913.0, 74842893.0], \"textposition\": \"auto\", \"type\": \"bar\", \"x\": [11198339.0, 11221132.0, 11919627.0, 16394026.0, 16924676.0, 17622853.0, 18254319.0, 18619166.0, 19007940.0, 19445640.0, 26006152.0, 27013448.0, 28405332.0, 33559165.0, 36658192.0, 40725992.0, 41264306.0, 41655606.0, 45335913.0, 74842893.0], \"xaxis\": \"x\", \"y\": [\"Mali\", \"Liberia\", \"Sierra Leone\", \"Rwanda\", \"Kenya\", \"C\\u00f4te d'Ivoire\", \"Niger\", \"Zambia\", \"Ethiopia\", \"Malawi\", \"Angola\", \"India\", \"Ghana\", \"United Republic of Tanzania\", \"Nigeria\", \"Mozambique\", \"Burundi\", \"Burkina Faso\", \"Uganda\", \"Democratic Republic of the Congo\"], \"yaxis\": \"y\"}],\n",
       "                        {\"barmode\": \"relative\", \"height\": 500, \"legend\": {\"tracegroupgap\": 0}, \"template\": {\"data\": {\"pie\": [{\"automargin\": true, \"type\": \"pie\"}]}, \"layout\": {\"xaxis\": {\"showgrid\": true, \"title\": {\"standoff\": 15}}, \"yaxis\": {\"showgrid\": true, \"title\": {\"standoff\": 15}}}}, \"title\": {\"text\": \"Malaria Cases from 2000 to 2018\"}, \"xaxis\": {\"anchor\": \"y\", \"domain\": [0.0, 1.0], \"title\": {\"text\": \"No. of cases\"}}, \"yaxis\": {\"anchor\": \"x\", \"domain\": [0.0, 1.0], \"title\": {\"text\": \"Country\"}}},\n",
       "                        {\"responsive\": true}\n",
       "                    ).then(function(){\n",
       "                            \n",
       "var gd = document.getElementById('912c778c-af5b-44c6-a3b1-7a8215f821af');\n",
       "var x = new MutationObserver(function (mutations, observer) {{\n",
       "        var display = window.getComputedStyle(gd).display;\n",
       "        if (!display || display === 'none') {{\n",
       "            console.log([gd, 'removed!']);\n",
       "            Plotly.purge(gd);\n",
       "            observer.disconnect();\n",
       "        }}\n",
       "}});\n",
       "\n",
       "// Listen for the removal of the full notebook cells\n",
       "var notebookContainer = gd.closest('#notebook-container');\n",
       "if (notebookContainer) {{\n",
       "    x.observe(notebookContainer, {childList: true});\n",
       "}}\n",
       "\n",
       "// Listen for the clearing of the current output cell\n",
       "var outputEl = gd.closest('.output');\n",
       "if (outputEl) {{\n",
       "    x.observe(outputEl, {childList: true});\n",
       "}}\n",
       "\n",
       "                        })\n",
       "                };\n",
       "                });\n",
       "            </script>\n",
       "        </div>"
      ]
     },
     "metadata": {},
     "output_type": "display_data"
    }
   ],
   "source": [
    "pio.templates.default ='gridon'\n",
    "fig = px.bar(df_cases.sort_values(\"No. of cases\",ascending=False)[:20][::-1],x=\"No. of cases\",y =\"Country\",text=\"No. of cases\",\n",
    "             title=\"Malaria Cases from 2000 to 2018\",\n",
    "             color_discrete_sequence= px.colors.qualitative.Light24,height=500,orientation=\"h\")#\n",
    "fig.show()"
   ]
  },
  {
   "cell_type": "markdown",
   "metadata": {},
   "source": [
    "6) MALARIA DEATHS FROM 2000-2018"
   ]
  },
  {
   "cell_type": "code",
   "execution_count": 48,
   "metadata": {},
   "outputs": [
    {
     "data": {
      "application/vnd.plotly.v1+json": {
       "config": {
        "plotlyServerURL": "https://plot.ly"
       },
       "data": [
        {
         "alignmentgroup": "True",
         "hovertemplate": "No. of deaths=%{text}<br>Country=%{y}<extra></extra>",
         "legendgroup": "",
         "marker": {
          "color": "#FD3216"
         },
         "name": "",
         "offsetgroup": "",
         "orientation": "h",
         "showlegend": false,
         "text": [
          22297,
          24394,
          24718,
          27951,
          30437,
          33484,
          34697,
          40644,
          40924,
          45767,
          49609,
          70941,
          88637,
          89429,
          93358,
          102336,
          183120,
          209838,
          328552,
          350413
         ],
         "textposition": "auto",
         "type": "bar",
         "x": [
          22297,
          24394,
          24718,
          27951,
          30437,
          33484,
          34697,
          40644,
          40924,
          45767,
          49609,
          70941,
          88637,
          89429,
          93358,
          102336,
          183120,
          209838,
          328552,
          350413
         ],
         "xaxis": "x",
         "y": [
          "Togo",
          "Sudan",
          "Rwanda",
          "Mali",
          "Sierra Leone",
          "Burundi",
          "Mozambique",
          "Côte d'Ivoire",
          "Niger",
          "Cameroon",
          "Ghana",
          "Uganda",
          "Nigeria",
          "Zambia",
          "Malawi",
          "Burkina Faso",
          "United Republic of Tanzania",
          "Angola",
          "Democratic Republic of the Congo",
          "Kenya"
         ],
         "yaxis": "y"
        }
       ],
       "layout": {
        "barmode": "relative",
        "height": 500,
        "legend": {
         "tracegroupgap": 0
        },
        "template": {
         "data": {
          "pie": [
           {
            "automargin": true,
            "type": "pie"
           }
          ]
         },
         "layout": {
          "xaxis": {
           "showgrid": true,
           "title": {
            "standoff": 15
           }
          },
          "yaxis": {
           "showgrid": true,
           "title": {
            "standoff": 15
           }
          }
         }
        },
        "title": {
         "text": "Top 20 Country with highest number of Malaria Deaths from 2000 to 2018"
        },
        "xaxis": {
         "anchor": "y",
         "domain": [
          0,
          1
         ],
         "title": {
          "text": "No. of deaths"
         }
        },
        "yaxis": {
         "anchor": "x",
         "domain": [
          0,
          1
         ],
         "title": {
          "text": "Country"
         }
        }
       }
      },
      "text/html": [
       "<div>\n",
       "        \n",
       "        \n",
       "            <div id=\"bd89dc29-468a-4ce6-880e-bffed1331058\" class=\"plotly-graph-div\" style=\"height:500px; width:100%;\"></div>\n",
       "            <script type=\"text/javascript\">\n",
       "                require([\"plotly\"], function(Plotly) {\n",
       "                    window.PLOTLYENV=window.PLOTLYENV || {};\n",
       "                    \n",
       "                if (document.getElementById(\"bd89dc29-468a-4ce6-880e-bffed1331058\")) {\n",
       "                    Plotly.newPlot(\n",
       "                        'bd89dc29-468a-4ce6-880e-bffed1331058',\n",
       "                        [{\"alignmentgroup\": \"True\", \"hovertemplate\": \"No. of deaths=%{text}<br>Country=%{y}<extra></extra>\", \"legendgroup\": \"\", \"marker\": {\"color\": \"#FD3216\"}, \"name\": \"\", \"offsetgroup\": \"\", \"orientation\": \"h\", \"showlegend\": false, \"text\": [22297.0, 24394.0, 24718.0, 27951.0, 30437.0, 33484.0, 34697.0, 40644.0, 40924.0, 45767.0, 49609.0, 70941.0, 88637.0, 89429.0, 93358.0, 102336.0, 183120.0, 209838.0, 328552.0, 350413.0], \"textposition\": \"auto\", \"type\": \"bar\", \"x\": [22297.0, 24394.0, 24718.0, 27951.0, 30437.0, 33484.0, 34697.0, 40644.0, 40924.0, 45767.0, 49609.0, 70941.0, 88637.0, 89429.0, 93358.0, 102336.0, 183120.0, 209838.0, 328552.0, 350413.0], \"xaxis\": \"x\", \"y\": [\"Togo\", \"Sudan\", \"Rwanda\", \"Mali\", \"Sierra Leone\", \"Burundi\", \"Mozambique\", \"C\\u00f4te d'Ivoire\", \"Niger\", \"Cameroon\", \"Ghana\", \"Uganda\", \"Nigeria\", \"Zambia\", \"Malawi\", \"Burkina Faso\", \"United Republic of Tanzania\", \"Angola\", \"Democratic Republic of the Congo\", \"Kenya\"], \"yaxis\": \"y\"}],\n",
       "                        {\"barmode\": \"relative\", \"height\": 500, \"legend\": {\"tracegroupgap\": 0}, \"template\": {\"data\": {\"pie\": [{\"automargin\": true, \"type\": \"pie\"}]}, \"layout\": {\"xaxis\": {\"showgrid\": true, \"title\": {\"standoff\": 15}}, \"yaxis\": {\"showgrid\": true, \"title\": {\"standoff\": 15}}}}, \"title\": {\"text\": \"Top 20 Country with highest number of Malaria Deaths from 2000 to 2018\"}, \"xaxis\": {\"anchor\": \"y\", \"domain\": [0.0, 1.0], \"title\": {\"text\": \"No. of deaths\"}}, \"yaxis\": {\"anchor\": \"x\", \"domain\": [0.0, 1.0], \"title\": {\"text\": \"Country\"}}},\n",
       "                        {\"responsive\": true}\n",
       "                    ).then(function(){\n",
       "                            \n",
       "var gd = document.getElementById('bd89dc29-468a-4ce6-880e-bffed1331058');\n",
       "var x = new MutationObserver(function (mutations, observer) {{\n",
       "        var display = window.getComputedStyle(gd).display;\n",
       "        if (!display || display === 'none') {{\n",
       "            console.log([gd, 'removed!']);\n",
       "            Plotly.purge(gd);\n",
       "            observer.disconnect();\n",
       "        }}\n",
       "}});\n",
       "\n",
       "// Listen for the removal of the full notebook cells\n",
       "var notebookContainer = gd.closest('#notebook-container');\n",
       "if (notebookContainer) {{\n",
       "    x.observe(notebookContainer, {childList: true});\n",
       "}}\n",
       "\n",
       "// Listen for the clearing of the current output cell\n",
       "var outputEl = gd.closest('.output');\n",
       "if (outputEl) {{\n",
       "    x.observe(outputEl, {childList: true});\n",
       "}}\n",
       "\n",
       "                        })\n",
       "                };\n",
       "                });\n",
       "            </script>\n",
       "        </div>"
      ]
     },
     "metadata": {},
     "output_type": "display_data"
    }
   ],
   "source": [
    "df_death = df_group[[\"Country\",\"No. of deaths\"]]\n",
    "pio.templates.default ='gridon'\n",
    "fig = px.bar(df_death.sort_values(\"No. of deaths\",ascending=False)[:20][::-1],x=\"No. of deaths\",y =\"Country\",text=\"No. of deaths\",\n",
    "             title=\"Top 20 Country with highest number of Malaria Deaths from 2000 to 2018\",\n",
    "             color_discrete_sequence= px.colors.qualitative.Light24,height=500,orientation=\"h\")\n",
    "fig.show()"
   ]
  },
  {
   "cell_type": "code",
   "execution_count": 28,
   "metadata": {},
   "outputs": [
    {
     "name": "stderr",
     "output_type": "stream",
     "text": [
      "C:\\Users\\vaishnavi\\anaconda3\\lib\\site-packages\\ipykernel_launcher.py:1: FutureWarning:\n",
      "\n",
      "Indexing with multiple keys (implicitly converted to a tuple of keys) will be deprecated, use a list instead.\n",
      "\n"
     ]
    },
    {
     "data": {
      "text/html": [
       "<style  type=\"text/css\" >\n",
       "    #T_5d67e4ca_8011_11eb_9733_f8a2d6b655ecrow0_col1 {\n",
       "            background-color:  #67000d;\n",
       "            color:  #f1f1f1;\n",
       "        }    #T_5d67e4ca_8011_11eb_9733_f8a2d6b655ecrow0_col2 {\n",
       "            background-color:  #67000d;\n",
       "            color:  #f1f1f1;\n",
       "        }    #T_5d67e4ca_8011_11eb_9733_f8a2d6b655ecrow1_col1 {\n",
       "            background-color:  #fff1ea;\n",
       "            color:  #000000;\n",
       "        }    #T_5d67e4ca_8011_11eb_9733_f8a2d6b655ecrow1_col2 {\n",
       "            background-color:  #fff4ef;\n",
       "            color:  #000000;\n",
       "        }    #T_5d67e4ca_8011_11eb_9733_f8a2d6b655ecrow2_col1 {\n",
       "            background-color:  #fff0e8;\n",
       "            color:  #000000;\n",
       "        }    #T_5d67e4ca_8011_11eb_9733_f8a2d6b655ecrow2_col2 {\n",
       "            background-color:  #fff3ed;\n",
       "            color:  #000000;\n",
       "        }    #T_5d67e4ca_8011_11eb_9733_f8a2d6b655ecrow3_col1 {\n",
       "            background-color:  #fff5f0;\n",
       "            color:  #000000;\n",
       "        }    #T_5d67e4ca_8011_11eb_9733_f8a2d6b655ecrow3_col2 {\n",
       "            background-color:  #fff5f0;\n",
       "            color:  #000000;\n",
       "        }    #T_5d67e4ca_8011_11eb_9733_f8a2d6b655ecrow4_col1 {\n",
       "            background-color:  #feeae0;\n",
       "            color:  #000000;\n",
       "        }    #T_5d67e4ca_8011_11eb_9733_f8a2d6b655ecrow4_col2 {\n",
       "            background-color:  #fff1ea;\n",
       "            color:  #000000;\n",
       "        }</style><table id=\"T_5d67e4ca_8011_11eb_9733_f8a2d6b655ec\" ><thead>    <tr>        <th class=\"blank level0\" ></th>        <th class=\"col_heading level0 col0\" >WHO Region</th>        <th class=\"col_heading level0 col1\" >No. of cases</th>        <th class=\"col_heading level0 col2\" >No. of deaths</th>    </tr></thead><tbody>\n",
       "                <tr>\n",
       "                        <th id=\"T_5d67e4ca_8011_11eb_9733_f8a2d6b655eclevel0_row0\" class=\"row_heading level0 row0\" >0</th>\n",
       "                        <td id=\"T_5d67e4ca_8011_11eb_9733_f8a2d6b655ecrow0_col0\" class=\"data row0 col0\" >Africa</td>\n",
       "                        <td id=\"T_5d67e4ca_8011_11eb_9733_f8a2d6b655ecrow0_col1\" class=\"data row0 col1\" >586002159.000000</td>\n",
       "                        <td id=\"T_5d67e4ca_8011_11eb_9733_f8a2d6b655ecrow0_col2\" class=\"data row0 col2\" >2053621.000000</td>\n",
       "            </tr>\n",
       "            <tr>\n",
       "                        <th id=\"T_5d67e4ca_8011_11eb_9733_f8a2d6b655eclevel0_row1\" class=\"row_heading level0 row1\" >1</th>\n",
       "                        <td id=\"T_5d67e4ca_8011_11eb_9733_f8a2d6b655ecrow1_col0\" class=\"data row1 col0\" >Americas</td>\n",
       "                        <td id=\"T_5d67e4ca_8011_11eb_9733_f8a2d6b655ecrow1_col1\" class=\"data row1 col1\" >13894342.000000</td>\n",
       "                        <td id=\"T_5d67e4ca_8011_11eb_9733_f8a2d6b655ecrow1_col2\" class=\"data row1 col2\" >11225.000000</td>\n",
       "            </tr>\n",
       "            <tr>\n",
       "                        <th id=\"T_5d67e4ca_8011_11eb_9733_f8a2d6b655eclevel0_row2\" class=\"row_heading level0 row2\" >2</th>\n",
       "                        <td id=\"T_5d67e4ca_8011_11eb_9733_f8a2d6b655ecrow2_col0\" class=\"data row2 col0\" >Eastern Mediterranean</td>\n",
       "                        <td id=\"T_5d67e4ca_8011_11eb_9733_f8a2d6b655ecrow2_col1\" class=\"data row2 col1\" >19932663.000000</td>\n",
       "                        <td id=\"T_5d67e4ca_8011_11eb_9733_f8a2d6b655ecrow2_col2\" class=\"data row2 col2\" >26764.000000</td>\n",
       "            </tr>\n",
       "            <tr>\n",
       "                        <th id=\"T_5d67e4ca_8011_11eb_9733_f8a2d6b655eclevel0_row3\" class=\"row_heading level0 row3\" >3</th>\n",
       "                        <td id=\"T_5d67e4ca_8011_11eb_9733_f8a2d6b655ecrow3_col0\" class=\"data row3 col0\" >Europe</td>\n",
       "                        <td id=\"T_5d67e4ca_8011_11eb_9733_f8a2d6b655ecrow3_col1\" class=\"data row3 col1\" >112675.000000</td>\n",
       "                        <td id=\"T_5d67e4ca_8011_11eb_9733_f8a2d6b655ecrow3_col2\" class=\"data row3 col2\" >25.000000</td>\n",
       "            </tr>\n",
       "            <tr>\n",
       "                        <th id=\"T_5d67e4ca_8011_11eb_9733_f8a2d6b655eclevel0_row4\" class=\"row_heading level0 row4\" >4</th>\n",
       "                        <td id=\"T_5d67e4ca_8011_11eb_9733_f8a2d6b655ecrow4_col0\" class=\"data row4 col0\" >South-East Asia</td>\n",
       "                        <td id=\"T_5d67e4ca_8011_11eb_9733_f8a2d6b655ecrow4_col1\" class=\"data row4 col1\" >39468640.000000</td>\n",
       "                        <td id=\"T_5d67e4ca_8011_11eb_9733_f8a2d6b655ecrow4_col2\" class=\"data row4 col2\" >49803.000000</td>\n",
       "            </tr>\n",
       "    </tbody></table>"
      ],
      "text/plain": [
       "<pandas.io.formats.style.Styler at 0x2230f11db08>"
      ]
     },
     "execution_count": 28,
     "metadata": {},
     "output_type": "execute_result"
    }
   ],
   "source": [
    "who_group =df.groupby('WHO Region')[\"No. of cases\",\"No. of deaths\"].sum().reset_index()\n",
    "who_group.head().style.background_gradient(cmap ='Reds')"
   ]
  },
  {
   "cell_type": "markdown",
   "metadata": {},
   "source": [
    "7) DEATH RATE WITH RESPECT TO WHO REGION"
   ]
  },
  {
   "cell_type": "code",
   "execution_count": 55,
   "metadata": {},
   "outputs": [
    {
     "data": {
      "application/vnd.plotly.v1+json": {
       "config": {
        "plotlyServerURL": "https://plot.ly"
       },
       "data": [
        {
         "hoverinfo": "label+percent",
         "labels": [
          "Africa",
          "Americas",
          "Eastern Mediterranean",
          "Europe",
          "South-East Asia",
          "Western Pacific"
         ],
         "marker": {
          "colors": [
           "gold",
           "mediumturquoise",
           "darkorange",
           "lightgreen"
          ],
          "line": {
           "color": "#000000",
           "width": 2
          }
         },
         "textfont": {
          "size": 12
         },
         "textinfo": "label+percent",
         "type": "pie",
         "values": [
          2053621,
          11225,
          26764,
          25,
          49803,
          18330
         ]
        }
       ],
       "layout": {
        "height": 600,
        "template": {
         "data": {
          "pie": [
           {
            "automargin": true,
            "type": "pie"
           }
          ]
         },
         "layout": {
          "xaxis": {
           "showgrid": true,
           "title": {
            "standoff": 15
           }
          },
          "yaxis": {
           "showgrid": true,
           "title": {
            "standoff": 15
           }
          }
         }
        },
        "width": 500
       }
      },
      "text/html": [
       "<div>\n",
       "        \n",
       "        \n",
       "            <div id=\"717b6654-a569-4694-8fb3-08fa9f74a4e4\" class=\"plotly-graph-div\" style=\"height:600px; width:500px;\"></div>\n",
       "            <script type=\"text/javascript\">\n",
       "                require([\"plotly\"], function(Plotly) {\n",
       "                    window.PLOTLYENV=window.PLOTLYENV || {};\n",
       "                    \n",
       "                if (document.getElementById(\"717b6654-a569-4694-8fb3-08fa9f74a4e4\")) {\n",
       "                    Plotly.newPlot(\n",
       "                        '717b6654-a569-4694-8fb3-08fa9f74a4e4',\n",
       "                        [{\"hoverinfo\": \"label+percent\", \"labels\": [\"Africa\", \"Americas\", \"Eastern Mediterranean\", \"Europe\", \"South-East Asia\", \"Western Pacific\"], \"marker\": {\"colors\": [\"gold\", \"mediumturquoise\", \"darkorange\", \"lightgreen\"], \"line\": {\"color\": \"#000000\", \"width\": 2}}, \"textfont\": {\"size\": 12}, \"textinfo\": \"label+percent\", \"type\": \"pie\", \"values\": [2053621.0, 11225.0, 26764.0, 25.0, 49803.0, 18330.0]}],\n",
       "                        {\"height\": 600, \"template\": {\"data\": {\"pie\": [{\"automargin\": true, \"type\": \"pie\"}]}, \"layout\": {\"xaxis\": {\"showgrid\": true, \"title\": {\"standoff\": 15}}, \"yaxis\": {\"showgrid\": true, \"title\": {\"standoff\": 15}}}}, \"width\": 500},\n",
       "                        {\"responsive\": true}\n",
       "                    ).then(function(){\n",
       "                            \n",
       "var gd = document.getElementById('717b6654-a569-4694-8fb3-08fa9f74a4e4');\n",
       "var x = new MutationObserver(function (mutations, observer) {{\n",
       "        var display = window.getComputedStyle(gd).display;\n",
       "        if (!display || display === 'none') {{\n",
       "            console.log([gd, 'removed!']);\n",
       "            Plotly.purge(gd);\n",
       "            observer.disconnect();\n",
       "        }}\n",
       "}});\n",
       "\n",
       "// Listen for the removal of the full notebook cells\n",
       "var notebookContainer = gd.closest('#notebook-container');\n",
       "if (notebookContainer) {{\n",
       "    x.observe(notebookContainer, {childList: true});\n",
       "}}\n",
       "\n",
       "// Listen for the clearing of the current output cell\n",
       "var outputEl = gd.closest('.output');\n",
       "if (outputEl) {{\n",
       "    x.observe(outputEl, {childList: true});\n",
       "}}\n",
       "\n",
       "                        })\n",
       "                };\n",
       "                });\n",
       "            </script>\n",
       "        </div>"
      ]
     },
     "metadata": {},
     "output_type": "display_data"
    }
   ],
   "source": [
    "import plotly.graph_objects as go\n",
    "colors = ['gold', 'mediumturquoise', 'darkorange', 'lightgreen']\n",
    "\n",
    "fig = go.Figure(data=[go.Pie(labels=who_group[\"WHO Region\"],\n",
    "                                 values=who_group['No. of deaths'])])\n",
    "fig.update_traces(hoverinfo='label+percent', textinfo='label+percent',textfont_size=12,\n",
    "                  marker=dict(colors=colors, line=dict(color='#000000', width=2)))\n",
    "fig.update_layout(width=500,\n",
    "    height=600)\n",
    "fig.show()\n"
   ]
  },
  {
   "cell_type": "markdown",
   "metadata": {},
   "source": [
    "LINEAR REGRESSION"
   ]
  },
  {
   "cell_type": "code",
   "execution_count": 29,
   "metadata": {},
   "outputs": [],
   "source": [
    "msk = np.random.rand(len(df)) < 0.8\n",
    "train_df = df[msk]\n",
    "test_df = df[~msk]"
   ]
  },
  {
   "cell_type": "code",
   "execution_count": 30,
   "metadata": {},
   "outputs": [],
   "source": [
    "x = train_df['No. of cases'].values\n",
    "y = train_df['No. of deaths'].values\n",
    "Actual = test_df['No. of deaths'].values"
   ]
  },
  {
   "cell_type": "code",
   "execution_count": 31,
   "metadata": {},
   "outputs": [],
   "source": [
    "def mean(values):\n",
    "    return np.mean(values)"
   ]
  },
  {
   "cell_type": "code",
   "execution_count": 32,
   "metadata": {},
   "outputs": [],
   "source": [
    "def variance(values, mean):\n",
    "    return sum([(x-mean)**2 for x in values])"
   ]
  },
  {
   "cell_type": "code",
   "execution_count": 33,
   "metadata": {},
   "outputs": [],
   "source": [
    "mean_X, mean_Y = mean(x), mean(y)"
   ]
  },
  {
   "cell_type": "code",
   "execution_count": 34,
   "metadata": {},
   "outputs": [],
   "source": [
    "var_x, var_y = variance(x, mean_X), variance(y, mean_Y)"
   ]
  },
  {
   "cell_type": "code",
   "execution_count": 35,
   "metadata": {},
   "outputs": [
    {
     "name": "stdout",
     "output_type": "stream",
     "text": [
      "371055.75870967744 2561191105112728.0\n"
     ]
    }
   ],
   "source": [
    "print(mean_X, var_x)"
   ]
  },
  {
   "cell_type": "code",
   "execution_count": 36,
   "metadata": {},
   "outputs": [
    {
     "name": "stdout",
     "output_type": "stream",
     "text": [
      "1138.2793548387097 26051291958.039436\n"
     ]
    }
   ],
   "source": [
    "print(mean_Y, var_y)"
   ]
  },
  {
   "cell_type": "code",
   "execution_count": 37,
   "metadata": {},
   "outputs": [],
   "source": [
    "def covariance(x, mean_x, y, mean_y):\n",
    "    covar = 0.0\n",
    "    for i in range(len(x)):\n",
    "        covar += (x[i] - mean_x)*(y[i] - mean_y)\n",
    "    return covar"
   ]
  },
  {
   "cell_type": "code",
   "execution_count": 38,
   "metadata": {},
   "outputs": [
    {
     "data": {
      "text/plain": [
       "3162007817817.4824"
      ]
     },
     "execution_count": 38,
     "metadata": {},
     "output_type": "execute_result"
    }
   ],
   "source": [
    "covariance(x, mean_X, y, mean_Y)"
   ]
  },
  {
   "cell_type": "code",
   "execution_count": 39,
   "metadata": {},
   "outputs": [],
   "source": [
    "\n",
    "def coefficients(data):\n",
    "    mean_x, mean_y = mean(x), mean(y)\n",
    "    b1 = covariance(x, mean_x, y, mean_y) / variance(x, mean_x)\n",
    "    b0 = mean_y - b1 * mean_x\n",
    "    return [b0, b1]"
   ]
  },
  {
   "cell_type": "code",
   "execution_count": 40,
   "metadata": {},
   "outputs": [],
   "source": [
    "predictions = []\n",
    "b0, b1 = coefficients(train_df)\n",
    "for i,row in test_df.iterrows():\n",
    "    ynew = b0 + b1 * row['No. of cases']\n",
    "    predictions.append(ynew)"
   ]
  },
  {
   "cell_type": "code",
   "execution_count": 56,
   "metadata": {},
   "outputs": [
    {
     "data": {
      "image/png": "[encoded data removed]",
      "text/plain": [
       "<Figure size 432x288 with 1 Axes>"
      ]
     },
     "metadata": {
      "needs_background": "light"
     },
     "output_type": "display_data"
    }
   ],
   "source": [
    "regression_line = [(b0 + b1*x) for x in test_df['No. of cases']]\n",
    "plt.scatter(test_df['No. of cases'], test_df['No. of deaths'], c='b', label='actual')\n",
    "plt.plot(test_df['No. of cases'], regression_line, c='r', label='prediction')\n",
    "plt.legend(loc='upper left')\n",
    "plt.title('Malaria Dataset')\n",
    "plt.xlabel('No. of cases')\n",
    "plt.ylabel('No. of deaths')\n",
    "plt.show()"
   ]
  }
 ],
 "metadata": {
  "kernelspec": {
   "display_name": "Python 3",
   "language": "python",
   "name": "python3"
  },
  "language_info": {
   "codemirror_mode": {
    "name": "ipython",
    "version": 3
   },
   "file_extension": ".py",
   "mimetype": "text/x-python",
   "name": "python",
   "nbconvert_exporter": "python",
   "pygments_lexer": "ipython3",
   "version": "3.7.6"
  }
 },
 "nbformat": 4,
 "nbformat_minor": 4
}
